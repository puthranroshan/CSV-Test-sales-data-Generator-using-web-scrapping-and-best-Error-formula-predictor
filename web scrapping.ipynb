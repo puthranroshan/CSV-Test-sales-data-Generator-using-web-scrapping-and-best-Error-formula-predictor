{
 "cells": [
  {
   "cell_type": "code",
   "execution_count": 1,
   "id": "e1d5907a",
   "metadata": {},
   "outputs": [],
   "source": [
    "import pandas as pd"
   ]
  },
  {
   "cell_type": "code",
   "execution_count": 8,
   "id": "dc3a9a06",
   "metadata": {},
   "outputs": [
    {
     "name": "stdout",
     "output_type": "stream",
     "text": [
      "Enter your search term (e.g., medical equipment sales): bike sales\n",
      "Datasets found:\n",
      "1. sadiqshah/bike-sales-in-europe - Bike Sales  in  Europe\n",
      "2. ratnarohith/uncleaned-bike-sales-data - Uncleaned bike sales data\n",
      "3. prepinstaprime/europe-bike-store-sales - Europe Bike Store Sales\n",
      "4. yasinnaal/bikes-sales-sample-data - SAP Bikes Sales sample data\n",
      "5. tforsyth/99bikes-sales-data - 99Bikes Sales Data\n",
      "Dataset URL: https://www.kaggle.com/datasets/sadiqshah/bike-sales-in-europe\n",
      "Downloaded sadiqshah/bike-sales-in-europe\n"
     ]
    }
   ],
   "source": [
    "import kaggle\n",
    "\n",
    "def search_and_download_datasets():\n",
    "    search_term = input(\"Enter your search term (e.g., medical equipment sales): \")\n",
    "    \n",
    "    # Searching for datasets on Kaggle\n",
    "    search_result = kaggle.api.dataset_list(search=search_term)\n",
    "    \n",
    "    if search_result:\n",
    "        print(\"Datasets found:\")\n",
    "        for i, dataset in enumerate(search_result[:5]):  # Display first 5 datasets found\n",
    "            print(f\"{i+1}. {dataset.ref} - {dataset.title}\")\n",
    "        \n",
    "        # Example: Download the first dataset found (be mindful of the dataset size and terms)\n",
    "        dataset_to_download = search_result[0].ref\n",
    "        \n",
    "        \n",
    "        kaggle.api.dataset_download_files(dataset_to_download, path='.', unzip=True)\n",
    "        print(f\"Downloaded {dataset_to_download}\")\n",
    "    else:\n",
    "        print(\"No datasets found. Try refining your search term.\")\n",
    "\n",
    "if __name__ == \"__main__\":\n",
    "    search_and_download_datasets()"
   ]
  },
  {
   "cell_type": "code",
   "execution_count": 10,
   "id": "27c88c0c",
   "metadata": {},
   "outputs": [
    {
     "name": "stdout",
     "output_type": "stream",
     "text": [
      "Enter your search term (e.g., medical equipment sales): car sales\n",
      "Datasets found:\n",
      "1. gagandeep16/car-sales - Car sales \n",
      "2. missionjee/car-sales-report - Car Sales Report\n",
      "3. ekibee/car-sales-information - Car Sales\n",
      "4. suraj520/car-sales-data - Car Sales Data\n",
      "5. dmi3kno/newcarsalesnorway - New Car Sales in Norway\n",
      "Dataset URL: https://www.kaggle.com/datasets/gagandeep16/car-sales\n",
      "Dataset URL: https://www.kaggle.com/datasets/missionjee/car-sales-report\n",
      "Dataset URL: https://www.kaggle.com/datasets/ekibee/car-sales-information\n",
      "Dataset URL: https://www.kaggle.com/datasets/suraj520/car-sales-data\n",
      "Dataset URL: https://www.kaggle.com/datasets/dmi3kno/newcarsalesnorway\n",
      "Dataset URL: https://www.kaggle.com/datasets/dmi3kno/newcarsalesnorway\n",
      "Downloaded dmi3kno/newcarsalesnorway\n"
     ]
    }
   ],
   "source": [
    "import kaggle\n",
    "\n",
    "def search_and_download_datasets():\n",
    "    search_term = input(\"Enter your search term (e.g., medical equipment sales): \")\n",
    "    \n",
    "    # Searching for datasets on Kaggle\n",
    "    search_result = kaggle.api.dataset_list(search=search_term)\n",
    "    \n",
    "    if search_result:\n",
    "        print(\"Datasets found:\")\n",
    "        for i, dataset in enumerate(search_result[:5]):  # Display first 5 datasets found\n",
    "            print(f\"{i+1}. {dataset.ref} - {dataset.title}\")\n",
    "        \n",
    "        # Example: Download the first dataset found (be mindful of the dataset size and terms)\n",
    "        for i in range(5):\n",
    "            dataset_to_download = search_result[i].ref\n",
    "            kaggle.api.dataset_download_files(dataset_to_download, path='.', unzip=True)\n",
    "        \n",
    "        kaggle.api.dataset_download_files(dataset_to_download, path='.', unzip=True)\n",
    "        print(f\"Downloaded {dataset_to_download}\")\n",
    "    else:\n",
    "        print(\"No datasets found. Try refining your search term.\")\n",
    "\n",
    "if __name__ == \"__main__\":\n",
    "    search_and_download_datasets()"
   ]
  },
  {
   "cell_type": "code",
   "execution_count": null,
   "id": "9d1a9990",
   "metadata": {},
   "outputs": [],
   "source": []
  }
 ],
 "metadata": {
  "kernelspec": {
   "display_name": "Python 3 (ipykernel)",
   "language": "python",
   "name": "python3"
  },
  "language_info": {
   "codemirror_mode": {
    "name": "ipython",
    "version": 3
   },
   "file_extension": ".py",
   "mimetype": "text/x-python",
   "name": "python",
   "nbconvert_exporter": "python",
   "pygments_lexer": "ipython3",
   "version": "3.11.5"
  }
 },
 "nbformat": 4,
 "nbformat_minor": 5
}
