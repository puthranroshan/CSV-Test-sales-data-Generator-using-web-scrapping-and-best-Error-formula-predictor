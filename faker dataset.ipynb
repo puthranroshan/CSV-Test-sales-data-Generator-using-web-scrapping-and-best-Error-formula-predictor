{
 "cells": [
  {
   "cell_type": "code",
   "execution_count": 1,
   "id": "5160f013",
   "metadata": {},
   "outputs": [],
   "source": [
    "# pip install faker"
   ]
  },
  {
   "cell_type": "code",
   "execution_count": null,
   "id": "41ca474d",
   "metadata": {},
   "outputs": [
    {
     "name": "stdout",
     "output_type": "stream",
     "text": [
      "Enter the dataset name and number of rows (or type 'exit' to quit): medical_equipments 20\n",
      "Generated dataset: medical_equipments\n",
      "         DATE ITEM CODE  FORECASTED SALES  ACTUAL SALES\n",
      "0  2021-01-01    832659                66            34\n",
      "1  2021-01-02    244339                37            97\n",
      "2  2021-01-03    286677                70            44\n",
      "3  2021-01-04    195260                33            93\n",
      "4  2021-01-05    948655                 7            41\n",
      "5  2021-01-06    744278                69            72\n",
      "6  2021-01-07    403312                29            30\n",
      "7  2021-01-08    727538                31            88\n",
      "8  2021-01-09    802711                90            98\n",
      "9  2021-01-10    159551                 1            31\n",
      "10 2021-01-11    488136                23            65\n",
      "11 2021-01-12    949403                20            51\n",
      "12 2021-01-13    897025                62            60\n",
      "13 2021-01-14    312899                 8             4\n",
      "14 2021-01-15    376599                48            74\n",
      "15 2021-01-16    809579                58            77\n",
      "16 2021-01-17    100582                96            27\n",
      "17 2021-01-18    582370                57            76\n",
      "18 2021-01-19    146561                90            82\n",
      "19 2021-01-20    577927                42            77\n",
      "Enter the dataset name and number of rows (or type 'exit' to quit): car_sales 100\n",
      "Generated dataset: car_sales\n",
      "         DATE ITEM CODE  FORECASTED SALES  ACTUAL SALES\n",
      "0  2021-01-01    844839                65            90\n",
      "1  2021-01-02    213913                33            27\n",
      "2  2021-01-03    653995                40             1\n",
      "3  2021-01-04    478776                72            39\n",
      "4  2021-01-05    822290                75            83\n",
      "..        ...       ...               ...           ...\n",
      "95 2021-04-06    706559                62            56\n",
      "96 2021-04-07    890439                72            56\n",
      "97 2021-04-08    455372                17            82\n",
      "98 2021-04-09    783859                34             2\n",
      "99 2021-04-10    496781                10            21\n",
      "\n",
      "[100 rows x 4 columns]\n"
     ]
    }
   ],
   "source": [
    "from faker import Faker\n",
    "import pandas as pd\n",
    "import random\n",
    "from random import randint\n",
    "\n",
    "fake = Faker()\n",
    "\n",
    "# Function to generate a dataset with a six-digit \"ITEM CODE\"\n",
    "def generate_custom_data(num_rows):\n",
    "    data = {\n",
    "        \"DATE\": pd.date_range(start='1/1/2021', periods=num_rows, freq='D'),\n",
    "        \"ITEM CODE\": [f'{randint(100000, 999999)}' for _ in range(num_rows)],  # 6-digit item codes\n",
    "        \"FORECASTED SALES\": [randint(1, 100) for _ in range(num_rows)],\n",
    "        \"ACTUAL SALES\": [randint(1, 100) for _ in range(num_rows)]\n",
    "    }\n",
    "    return pd.DataFrame(data)\n",
    "\n",
    "# Bot function for generating datasets based on user input\n",
    "def dataset_bot():\n",
    "    while True:\n",
    "        try:\n",
    "            user_input = input(\"Enter the dataset name and number of rows (or type 'exit' to quit): \")\n",
    "            if user_input.lower() == 'exit':\n",
    "                print(\"Exiting the bot.\")\n",
    "                break\n",
    "\n",
    "            inputs = user_input.split()\n",
    "            if len(inputs) < 2:\n",
    "                print(\"Invalid input. Please provide at least two arguments: dataset name and number of rows.\")\n",
    "                continue\n",
    "\n",
    "            # Extract dataset name and number of rows\n",
    "            dataset_name, num_rows_str = inputs[0], inputs[1]\n",
    "            \n",
    "            if not num_rows_str.isdigit():\n",
    "                print(\"Please make sure the number of rows is an integer.\")\n",
    "                continue\n",
    "            \n",
    "            num_rows = int(num_rows_str)\n",
    "\n",
    "            df = generate_custom_data(num_rows)\n",
    "\n",
    "            print(f\"Generated dataset: {dataset_name}\")\n",
    "            print(df)\n",
    "        except ValueError:\n",
    "            print(\"Please make sure the number of rows is an integer.\")\n",
    "        except Exception as e:\n",
    "            print(f\"An error occurred: {e}\")\n",
    "\n",
    "# Run the bot\n",
    "dataset_bot()"
   ]
  },
  {
   "cell_type": "code",
   "execution_count": null,
   "id": "4279c3f0",
   "metadata": {},
   "outputs": [],
   "source": []
  },
  {
   "cell_type": "code",
   "execution_count": null,
   "id": "897d922c",
   "metadata": {},
   "outputs": [],
   "source": []
  }
 ],
 "metadata": {
  "kernelspec": {
   "display_name": "Python 3 (ipykernel)",
   "language": "python",
   "name": "python3"
  },
  "language_info": {
   "codemirror_mode": {
    "name": "ipython",
    "version": 3
   },
   "file_extension": ".py",
   "mimetype": "text/x-python",
   "name": "python",
   "nbconvert_exporter": "python",
   "pygments_lexer": "ipython3",
   "version": "3.11.5"
  }
 },
 "nbformat": 4,
 "nbformat_minor": 5
}
